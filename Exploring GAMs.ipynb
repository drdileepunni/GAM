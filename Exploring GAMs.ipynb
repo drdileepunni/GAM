{
 "cells": [
  {
   "cell_type": "code",
   "execution_count": 1,
   "metadata": {
    "scrolled": true
   },
   "outputs": [],
   "source": [
    "import pandas as pd\n",
    "import numpy as np\n",
    "import pickle\n",
    "\n",
    "# enter your path to the datasets here!\n",
    "tl_path = 'data/timeseries.csv'\n",
    "stays_path = 'data/stays.csv'\n",
    "\n",
    "from preprocess import load_dataframes, generate_data_dict\n",
    "from traintest import train_test_split\n",
    "\n",
    "## USE THESE TO GENERATE DATA DICT FROM SCRATCH - Takes about 2 hours\n",
    "# tl, stays = load_dataframes(tl_path, stays_path)\n",
    "# data_dict = generate_data_dict(tl)\n",
    "\n",
    "\n",
    "## USE THIS TO LOAD DATA DICT FROM PKL FILE\n",
    "with open('data/data_dict.pkl', 'rb') as file:\n",
    "    data_dict = pickle.load(file)\n",
    "\n",
    "X_train, X_test, y_train, y_test = train_test_split(data_dict)"
   ]
  },
  {
   "cell_type": "code",
   "execution_count": null,
   "metadata": {
    "scrolled": true
   },
   "outputs": [
    {
     "name": "stderr",
     "output_type": "stream",
     "text": [
      "\r",
      "  0% (0 of 11) |                         | Elapsed Time: 0:00:00 ETA:  --:--:--"
     ]
    }
   ],
   "source": [
    "from pygam import LogisticGAM\n",
    "\n",
    "log_gam = LogisticGAM(n_splines=10).gridsearch(X_train, y_train)"
   ]
  },
  {
   "cell_type": "code",
   "execution_count": null,
   "metadata": {},
   "outputs": [],
   "source": [
    "log_gam.accuracy(X_test, y_test)"
   ]
  },
  {
   "cell_type": "code",
   "execution_count": null,
   "metadata": {},
   "outputs": [],
   "source": []
  }
 ],
 "metadata": {
  "kernelspec": {
   "display_name": "Python 3 (ipykernel)",
   "language": "python",
   "name": "python3"
  },
  "language_info": {
   "codemirror_mode": {
    "name": "ipython",
    "version": 3
   },
   "file_extension": ".py",
   "mimetype": "text/x-python",
   "name": "python",
   "nbconvert_exporter": "python",
   "pygments_lexer": "ipython3",
   "version": "3.7.11"
  }
 },
 "nbformat": 4,
 "nbformat_minor": 4
}
